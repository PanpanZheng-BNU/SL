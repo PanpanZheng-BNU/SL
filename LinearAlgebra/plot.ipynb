{
 "cells": [
  {
   "attachments": {},
   "cell_type": "markdown",
   "metadata": {},
   "source": [
    "1. 二维矩阵加法"
   ]
  },
  {
   "cell_type": "code",
   "execution_count": 98,
   "metadata": {},
   "outputs": [
    {
     "data": {
      "text/plain": [
       "\"https://cdn.jsdelivr.net/gh/BNUPsycher/picture-host/la/\""
      ]
     },
     "execution_count": 98,
     "metadata": {},
     "output_type": "execute_result"
    }
   ],
   "source": [
    "folder_path = \"/home/zpp/Documents/pic/picture-host/la/\"\n",
    "cdn_url = \"https://cdn.jsdelivr.net/gh/BNUPsycher/picture-host/la/\"\n"
   ]
  },
  {
   "cell_type": "code",
   "execution_count": 97,
   "metadata": {},
   "outputs": [
    {
     "data": {
      "text/plain": [
       "\"/home/zpp/Documents/pic/picture-host/la/1_1.svg\""
      ]
     },
     "execution_count": 97,
     "metadata": {},
     "output_type": "execute_result"
    }
   ],
   "source": [
    "using Plots, LaTeXStrings\n",
    "x = [-1, 2]\n",
    "y = [2, 3]\n",
    "\n",
    "v1 = hcat(zeros(2), x);\n",
    "v2 = hcat(zeros(2), y);\n",
    "v3 = hcat(zeros(2), x + y);\n",
    "default(\n",
    "    aspect_ratio = :equal,\n",
    "    grid = :none,\n",
    "    arrow = true,\n",
    "    ticks = false,\n",
    "    axis = ([], false),\n",
    "    xlims = [-3, 3],\n",
    "    ylims = [0, 5],\n",
    "    lw = 2,\n",
    "    legend = :none,\n",
    ")\n",
    "v4 = hcat(y,x+y)\n",
    "v5 = hcat(x,x+y)\n",
    "\n",
    "fig = plot(v1[1, :], v1[2, :])\n",
    "plot!(v2[1, :], v2[2, :])\n",
    "plot!(v3[1, :], v3[2, :])\n",
    "plot!(v4[1, :], v4[2, :],arrow=false, ls=:dash, c=1)\n",
    "plot!(v5[1, :], v5[2, :],arrow=false, ls=:dash, c=2)\n",
    "annotate!(-0.6,0.7, L\"{x}\")\n",
    "annotate!(1,0.95, L\"{y}\")\n",
    "annotate!(-0.15,2.3, L\"{x+y}\")\n",
    "\n",
    "plot(fig, size=(500,500))\n",
    "savefig(fig, \"/home/zpp/Documents/pic/picture-host/la/1_1.svg\")"
   ]
  }
 ],
 "metadata": {
  "kernelspec": {
   "display_name": "Julia 1.8.5",
   "language": "julia",
   "name": "julia-1.8"
  },
  "language_info": {
   "file_extension": ".jl",
   "mimetype": "application/julia",
   "name": "julia",
   "version": "1.8.5"
  },
  "orig_nbformat": 4
 },
 "nbformat": 4,
 "nbformat_minor": 2
}
